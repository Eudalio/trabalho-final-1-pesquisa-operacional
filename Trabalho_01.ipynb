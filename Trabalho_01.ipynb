{
 "cells": [
  {
   "cell_type": "markdown",
   "metadata": {},
   "source": [
    "# Trabalho de Pesquisa Operacional 1"
   ]
  },
  {
   "cell_type": "markdown",
   "metadata": {},
   "source": [
    "### 1)  Na  tabela  abaixo  fornecemos  as  necessidades  alimentares  semanais  de  um  certo animal.  Faça  um  modelo  de  Programação  Linear  que  determine  uma  mistura  dessas rações  que  satisfaz  os  requisitos  alimentares  a  um  custo  mínimo  para  o  proprietário. "
   ]
  },
  {
   "cell_type": "markdown",
   "metadata": {},
   "source": [
    "![modelagem](modelagem.jpeg)"
   ]
  },
  {
   "cell_type": "markdown",
   "metadata": {},
   "source": [
    "### 2)  Implemente  o  modelo  da  questão  anterior  e  resolva-o  usando  um  pacote  de otimização  (ex:  CPLEX). "
   ]
  },
  {
   "cell_type": "markdown",
   "metadata": {},
   "source": [
    "![tabela](tabela_trab_po1.png)"
   ]
  },
  {
   "cell_type": "code",
   "execution_count": 1,
   "metadata": {},
   "outputs": [],
   "source": [
    "import cplex"
   ]
  },
  {
   "cell_type": "code",
   "execution_count": 2,
   "metadata": {},
   "outputs": [
    {
     "name": "stdout",
     "output_type": "stream",
     "text": [
      "CPXPARAM_Read_DataCheck                          1\n",
      "Tried aggregator 1 time.\n",
      "LP Presolve eliminated 0 rows and 1 columns.\n",
      "Reduced LP has 2 rows, 4 columns, and 8 nonzeros.\n",
      "Presolve time = 0.03 sec. (0.00 ticks)\n",
      "\n",
      "Iteration log . . .\n",
      "Iteration:     1   Dual objective     =            16.000000\n",
      "[2.5714285714285703, 5.42857142857143, 0.0, 0.0, 0.0]\n",
      "Valor da função objetivo: 18.57142857142857\n"
     ]
    }
   ],
   "source": [
    "# Create an instance of a linear problem to solve\n",
    "problem = cplex.Cplex()\n",
    "\n",
    "# We want to find a maximum of our objective function\n",
    "problem.objective.set_sense(problem.objective.sense.minimize)\n",
    "\n",
    "# The names of our variables\n",
    "names = [\"x1\", \"x2\", \"x3\", \"x4\", \"x5\"]\n",
    "\n",
    "# The obective function. More precisely, the coefficients of the objective\n",
    "# function. Note that we are casting to floats.\n",
    "objective = [3.0, 2.0, 4.0, 3.0, 3.0]\n",
    "\n",
    "# Lower bounds. Since these are all zero, we could simply not pass them in as\n",
    "# all zeroes is the default.\n",
    "lower_bounds = [0.0, 0.0, 0.0, 0.0, 0.0]\n",
    "\n",
    "# Upper bounds. The default here would be cplex.infinity, or 1e+20.\n",
    "upper_bounds = [cplex.infinity, cplex.infinity, cplex.infinity, cplex.infinity, cplex.infinity]\n",
    "\n",
    "problem.variables.add(obj = objective,\n",
    "                      lb = lower_bounds,\n",
    "                      ub = upper_bounds,\n",
    "                      names = names)\n",
    "\n",
    "# Constraints\n",
    "\n",
    "# Constraints are entered in two parts, as a left hand part and a right hand\n",
    "# part. Most times, these will be represented as matrices in your problem. In\n",
    "# our case, we have \"3x + y - z ≤ 75\" and \"3x + 4y + 4z ≤ 160\" which we can\n",
    "# write as matrices as follows:\n",
    "\n",
    "# [  3   1  -1 ]   [ x ]   [  75 ]\n",
    "# [  3   4   4 ]   [ y ] ≤ [ 160 ]\n",
    "#                  [ z ]\n",
    "\n",
    "# First, we name the constraints\n",
    "constraint_names = [\"c1\", \"c2\"]\n",
    "\n",
    "# The actual constraints are now added. Each constraint is actually a list\n",
    "# consisting of two objects, each of which are themselves lists. The first list\n",
    "# represents each of the variables in the constraint, and the second list is the\n",
    "# coefficient of the respective variable. Data is entered in this way as the\n",
    "# constraints matrix is often sparse.\n",
    "\n",
    "# The first constraint is entered by referring to each variable by its name\n",
    "# (which we defined earlier). This then represents \"3x + y - z\"\n",
    "first_constraint = [[\"x1\", \"x2\", \"x3\", \"x4\", \"x5\"], [25.0, 25.0, 45.0, 35.0, 25.0]]\n",
    "# In this second constraint, we refer to the variables by their indices. Since\n",
    "# \"x\" was the first variable we added, \"y\" the second and \"z\" the third, this\n",
    "# then represents 3x + 4y + 4z\n",
    "second_constraint = [[0, 1, 2, 3, 4], [55.0, 20.0, 10.0, 35.0, 20.0]]\n",
    "constraints = [ first_constraint, second_constraint ]\n",
    "\n",
    "# So far we haven't added a right hand side, so we do that now. Note that the\n",
    "# first entry in this list corresponds to the first constraint, and so-on.\n",
    "rhs = [200.0, 250.0]\n",
    "\n",
    "# We need to enter the senses of the constraints. That is, we need to tell Cplex\n",
    "# whether each constrains should be treated as an upper-limit (≤, denoted \"L\"\n",
    "# for less-than), a lower limit (≥, denoted \"G\" for greater than) or an equality\n",
    "# (=, denoted \"E\" for equality)\n",
    "constraint_senses = [ \"G\", \"G\" ]\n",
    "\n",
    "# Note that we can actually set senses as a string. That is, we could also use\n",
    "#     constraint_senses = \"LL\"\n",
    "# to pass in our constraints\n",
    "\n",
    "# And add the constraints\n",
    "problem.linear_constraints.add(lin_expr = constraints,\n",
    "                               senses = constraint_senses,\n",
    "                               rhs = rhs,\n",
    "                               names = constraint_names)\n",
    "\n",
    "# Solve the problem\n",
    "problem.solve()\n",
    "\n",
    "# And print the solutions\n",
    "print(problem.solution.get_values())\n",
    "print(\"Valor da função objetivo: \" + str(problem.solution.get_objective_value()))"
   ]
  },
  {
   "cell_type": "code",
   "execution_count": 3,
   "metadata": {},
   "outputs": [
    {
     "ename": "CplexError",
     "evalue": "inconsistent arguments",
     "output_type": "error",
     "traceback": [
      "\u001b[0;31m---------------------------------------------------------------------------\u001b[0m",
      "\u001b[0;31mCplexError\u001b[0m                                Traceback (most recent call last)",
      "\u001b[0;32m<ipython-input-3-912dd96fb7a6>\u001b[0m in \u001b[0;36m<module>\u001b[0;34m()\u001b[0m\n\u001b[1;32m     23\u001b[0m                       \u001b[0mlb\u001b[0m \u001b[0;34m=\u001b[0m \u001b[0mlower_bounds\u001b[0m\u001b[0;34m,\u001b[0m\u001b[0;34m\u001b[0m\u001b[0m\n\u001b[1;32m     24\u001b[0m                       \u001b[0mub\u001b[0m \u001b[0;34m=\u001b[0m \u001b[0mupper_bounds\u001b[0m\u001b[0;34m,\u001b[0m\u001b[0;34m\u001b[0m\u001b[0m\n\u001b[0;32m---> 25\u001b[0;31m                       names = names)\n\u001b[0m\u001b[1;32m     26\u001b[0m \u001b[0;34m\u001b[0m\u001b[0m\n\u001b[1;32m     27\u001b[0m \u001b[0;31m# Constraints\u001b[0m\u001b[0;34m\u001b[0m\u001b[0;34m\u001b[0m\u001b[0m\n",
      "\u001b[0;32m~/anaconda3/lib/python3.6/site-packages/cplex/_internal/_subinterfaces.py\u001b[0m in \u001b[0;36madd\u001b[0;34m(self, obj, lb, ub, types, names, columns)\u001b[0m\n\u001b[1;32m    538\u001b[0m                                                      columns)\n\u001b[1;32m    539\u001b[0m         return self._add_iter(self.get_num, self._add,\n\u001b[0;32m--> 540\u001b[0;31m                               obj, lb, ub, types, names, columns)\n\u001b[0m\u001b[1;32m    541\u001b[0m \u001b[0;34m\u001b[0m\u001b[0m\n\u001b[1;32m    542\u001b[0m     \u001b[0;32mdef\u001b[0m \u001b[0mdelete\u001b[0m\u001b[0;34m(\u001b[0m\u001b[0mself\u001b[0m\u001b[0;34m,\u001b[0m \u001b[0;34m*\u001b[0m\u001b[0margs\u001b[0m\u001b[0;34m)\u001b[0m\u001b[0;34m:\u001b[0m\u001b[0;34m\u001b[0m\u001b[0m\n",
      "\u001b[0;32m~/anaconda3/lib/python3.6/site-packages/cplex/_internal/_subinterfaces.py\u001b[0m in \u001b[0;36m_add_iter\u001b[0;34m(getnumfun, addfun, *args, **kwargs)\u001b[0m\n\u001b[1;32m    139\u001b[0m         \u001b[0;34m\"\"\"non-public\"\"\"\u001b[0m\u001b[0;34m\u001b[0m\u001b[0m\n\u001b[1;32m    140\u001b[0m         \u001b[0mold\u001b[0m \u001b[0;34m=\u001b[0m \u001b[0mgetnumfun\u001b[0m\u001b[0;34m(\u001b[0m\u001b[0;34m)\u001b[0m\u001b[0;34m\u001b[0m\u001b[0m\n\u001b[0;32m--> 141\u001b[0;31m         \u001b[0maddfun\u001b[0m\u001b[0;34m(\u001b[0m\u001b[0;34m*\u001b[0m\u001b[0margs\u001b[0m\u001b[0;34m,\u001b[0m \u001b[0;34m**\u001b[0m\u001b[0mkwargs\u001b[0m\u001b[0;34m)\u001b[0m\u001b[0;34m\u001b[0m\u001b[0m\n\u001b[0m\u001b[1;32m    142\u001b[0m         \u001b[0;32mreturn\u001b[0m \u001b[0msix\u001b[0m\u001b[0;34m.\u001b[0m\u001b[0mmoves\u001b[0m\u001b[0;34m.\u001b[0m\u001b[0mrange\u001b[0m\u001b[0;34m(\u001b[0m\u001b[0mold\u001b[0m\u001b[0;34m,\u001b[0m \u001b[0mgetnumfun\u001b[0m\u001b[0;34m(\u001b[0m\u001b[0;34m)\u001b[0m\u001b[0;34m)\u001b[0m\u001b[0;34m\u001b[0m\u001b[0m\n\u001b[1;32m    143\u001b[0m \u001b[0;34m\u001b[0m\u001b[0m\n",
      "\u001b[0;32m~/anaconda3/lib/python3.6/site-packages/cplex/_internal/_subinterfaces.py\u001b[0m in \u001b[0;36m_add\u001b[0;34m(self, obj, lb, ub, types, names, columns)\u001b[0m\n\u001b[1;32m    459\u001b[0m         \u001b[0marg_list\u001b[0m \u001b[0;34m=\u001b[0m \u001b[0;34m[\u001b[0m\u001b[0mobj\u001b[0m\u001b[0;34m,\u001b[0m \u001b[0mlb\u001b[0m\u001b[0;34m,\u001b[0m \u001b[0mub\u001b[0m\u001b[0;34m,\u001b[0m \u001b[0mtypes\u001b[0m\u001b[0;34m,\u001b[0m \u001b[0mnames\u001b[0m\u001b[0;34m,\u001b[0m \u001b[0mcolumns\u001b[0m\u001b[0;34m]\u001b[0m\u001b[0;34m\u001b[0m\u001b[0m\n\u001b[1;32m    460\u001b[0m         \u001b[0mnum_new_cols\u001b[0m \u001b[0;34m=\u001b[0m \u001b[0mmax_arg_length\u001b[0m\u001b[0;34m(\u001b[0m\u001b[0marg_list\u001b[0m\u001b[0;34m)\u001b[0m\u001b[0;34m\u001b[0m\u001b[0m\n\u001b[0;32m--> 461\u001b[0;31m         \u001b[0mvalidate_arg_lengths\u001b[0m\u001b[0;34m(\u001b[0m\u001b[0marg_list\u001b[0m\u001b[0;34m)\u001b[0m\u001b[0;34m\u001b[0m\u001b[0m\n\u001b[0m\u001b[1;32m    462\u001b[0m         \u001b[0mnum_old_cols\u001b[0m \u001b[0;34m=\u001b[0m \u001b[0mself\u001b[0m\u001b[0;34m.\u001b[0m\u001b[0mget_num\u001b[0m\u001b[0;34m(\u001b[0m\u001b[0;34m)\u001b[0m\u001b[0;34m\u001b[0m\u001b[0m\n\u001b[1;32m    463\u001b[0m         \u001b[0;32mif\u001b[0m \u001b[0mcolumns\u001b[0m \u001b[0;34m==\u001b[0m \u001b[0;34m[\u001b[0m\u001b[0;34m]\u001b[0m\u001b[0;34m:\u001b[0m\u001b[0;34m\u001b[0m\u001b[0m\n",
      "\u001b[0;32m~/anaconda3/lib/python3.6/site-packages/cplex/_internal/_aux_functions.py\u001b[0m in \u001b[0;36mvalidate_arg_lengths\u001b[0;34m(arg_list, allow_empty)\u001b[0m\n\u001b[1;32m     95\u001b[0m         \u001b[0;32mfor\u001b[0m \u001b[0marg_length\u001b[0m \u001b[0;32min\u001b[0m \u001b[0marg_lengths\u001b[0m\u001b[0;34m:\u001b[0m\u001b[0;34m\u001b[0m\u001b[0m\n\u001b[1;32m     96\u001b[0m             \u001b[0;32mif\u001b[0m \u001b[0;34m(\u001b[0m\u001b[0marg_length\u001b[0m \u001b[0;34m!=\u001b[0m \u001b[0mmax_length\u001b[0m\u001b[0;34m)\u001b[0m\u001b[0;34m:\u001b[0m\u001b[0;34m\u001b[0m\u001b[0m\n\u001b[0;32m---> 97\u001b[0;31m                 \u001b[0;32mraise\u001b[0m \u001b[0mCplexError\u001b[0m\u001b[0;34m(\u001b[0m\u001b[0;34m\"inconsistent arguments\"\u001b[0m\u001b[0;34m)\u001b[0m\u001b[0;34m\u001b[0m\u001b[0m\n\u001b[0m\u001b[1;32m     98\u001b[0m \u001b[0;34m\u001b[0m\u001b[0m\n\u001b[1;32m     99\u001b[0m \u001b[0;32melse\u001b[0m\u001b[0;34m:\u001b[0m\u001b[0;34m\u001b[0m\u001b[0m\n",
      "\u001b[0;31mCplexError\u001b[0m: inconsistent arguments"
     ]
    }
   ],
   "source": [
    "# Create an instance of a linear problem to solve\n",
    "problem = cplex.Cplex()\n",
    "\n",
    "\n",
    "# We want to find a maximum of our objective function\n",
    "problem.objective.set_sense(problem.objective.sense.maximize)\n",
    "\n",
    "# The names of our variables\n",
    "names = [\"x\", \"y\"]\n",
    "\n",
    "# The obective function. More precisely, the coefficients of the objective\n",
    "# function. Note that we are casting to floats.\n",
    "objective = [3000.0, 5000.0]\n",
    "\n",
    "# Lower bounds. Since these are all zero, we could simply not pass them in as\n",
    "# all zeroes is the default.\n",
    "lower_bounds = [0.0, 0.0, 0.0]\n",
    "\n",
    "# Upper bounds. The default here would be cplex.infinity, or 1e+20.\n",
    "upper_bounds = [cplex.infinity, cplex.infinity]\n",
    "\n",
    "problem.variables.add(obj = objective,\n",
    "                      lb = lower_bounds,\n",
    "                      ub = upper_bounds,\n",
    "                      names = names)\n",
    "\n",
    "# Constraints\n",
    "\n",
    "# Constraints are entered in two parts, as a left hand part and a right hand\n",
    "# part. Most times, these will be represented as matrices in your problem. In\n",
    "# our case, we have \"3x + y - z ≤ 75\" and \"3x + 4y + 4z ≤ 160\" which we can\n",
    "# write as matrices as follows:\n",
    "\n",
    "# [  3   1  -1 ]   [ x ]   [  75 ]\n",
    "# [  3   4   4 ]   [ y ] ≤ [ 160 ]\n",
    "#                  [ z ]\n",
    "\n",
    "# First, we name the constraints\n",
    "constraint_names = [\"c1\", \"c2\", \"c3\"]\n",
    "\n",
    "# The actual constraints are now added. Each constraint is actually a list\n",
    "# consisting of two objects, each of which are themselves lists. The first list\n",
    "# represents each of the variables in the constraint, and the second list is the\n",
    "# coefficient of the respective variable. Data is entered in this way as the\n",
    "# constraints matrix is often sparse.\n",
    "\n",
    "# The first constraint is entered by referring to each variable by its name\n",
    "# (which we defined earlier). This then represents \"3x + y - z\"\n",
    "first_constraint = [[\"x\", \"y\"], [1.0, 0.0]]\n",
    "# In this second constraint, we refer to the variables by their indices. Since\n",
    "# \"x\" was the first variable we added, \"y\" the second and \"z\" the third, this\n",
    "# then represents 3x + 4y + 4z\n",
    "second_constraint = [[0, 1], [0.0, 2.0]]\n",
    "\n",
    "third_constraint = [[0, 1], [3.0, 4.0, 4.0]]\n",
    "\n",
    "constraints = [ first_constraint, second_constraint ]\n",
    "\n",
    "# So far we haven't added a right hand side, so we do that now. Note that the\n",
    "# first entry in this list corresponds to the first constraint, and so-on.\n",
    "rhs = [75.0, 160.0]\n",
    "\n",
    "# We need to enter the senses of the constraints. That is, we need to tell Cplex\n",
    "# whether each constrains should be treated as an upper-limit (≤, denoted \"L\"\n",
    "# for less-than), a lower limit (≥, denoted \"G\" for greater than) or an equality\n",
    "# (=, denoted \"E\" for equality)\n",
    "constraint_senses = [ \"L\", \"L\" ]\n",
    "\n",
    "# Note that we can actually set senses as a string. That is, we could also use\n",
    "#     constraint_senses = \"LL\"\n",
    "# to pass in our constraints\n",
    "\n",
    "# And add the constraints\n",
    "problem.linear_constraints.add(lin_expr = constraints,\n",
    "                               senses = constraint_senses,\n",
    "                               rhs = rhs,\n",
    "                               names = constraint_names)\n",
    "\n",
    "# Solve the problem\n",
    "problem.solve()\n",
    "\n",
    "# And print the solutions\n",
    "print(problem.solution.get_values())\n",
    "print(\"Valor da função objetivo: \" + str(problem.solution.get_objective_value()))"
   ]
  },
  {
   "cell_type": "code",
   "execution_count": null,
   "metadata": {},
   "outputs": [],
   "source": []
  }
 ],
 "metadata": {
  "kernelspec": {
   "display_name": "Python 3",
   "language": "python",
   "name": "python3"
  },
  "language_info": {
   "codemirror_mode": {
    "name": "ipython",
    "version": 3
   },
   "file_extension": ".py",
   "mimetype": "text/x-python",
   "name": "python",
   "nbconvert_exporter": "python",
   "pygments_lexer": "ipython3",
   "version": "3.6.4"
  }
 },
 "nbformat": 4,
 "nbformat_minor": 2
}
